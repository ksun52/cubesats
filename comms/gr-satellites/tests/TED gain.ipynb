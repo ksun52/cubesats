{
 "cells": [
  {
   "cell_type": "code",
   "execution_count": 1,
   "metadata": {},
   "outputs": [],
   "source": [
    "%matplotlib inline\n",
    "import numpy as np\n",
    "import matplotlib.pyplot as plt\n",
    "import scipy.signal"
   ]
  },
  {
   "cell_type": "code",
   "execution_count": 2,
   "metadata": {},
   "outputs": [],
   "source": [
    "def gain(sps):\n",
    "    # Define some constants\n",
    "    N_bits = 30000 # Number of bits used for timing error analysis\n",
    "    baud_rate = 9600\n",
    "    N_syms = N_bits # Number of symbols used for timing error analysis\n",
    "    tea_sps = 100 # samples/symbol used for timing error analysis\n",
    "    tea_Fs = tea_sps * baud_rate # sample rate used for timing error analysis\n",
    "    a_sps = sps # actual samples per symbol used in application\n",
    "    a_Fs = a_sps * baud_rate # actual sample rate used in application\n",
    "\n",
    "    # Create rectangular pulse filter\n",
    "    pf_taps = 1/tea_sps * np.ones(tea_sps)\n",
    "    pf_len = pf_taps.size\n",
    "    pf_delay = pf_len/2\n",
    "\n",
    "    # Generate some bits\n",
    "    bits = np.random.randint(0, 2, N_bits)\n",
    "\n",
    "    # Convert the bits to NRZ symbols in [-1, 1]\n",
    "    symbols = 2*bits-1;\n",
    "\n",
    "    # Convert symbols to baseband pulses\n",
    "    x = np.zeros((N_syms * tea_sps))\n",
    "    x[::tea_sps] = tea_sps * symbols\n",
    "    baseband = scipy.signal.lfilter(pf_taps, 1, x)\n",
    "\n",
    "    # Create rectangular matched filter,\n",
    "    # that's a little too long (7 sps vs 6.667 sps), to introduce more ISI\n",
    "    #isi_sps = round((tea_sps/a_sps * 7) - tea_sps) # Play with isi samples to see S-curve effects\n",
    "    isi_sps = 0\n",
    "    if isi_sps % 2 != 0:\n",
    "        isi_sps = isi_sps + 1\n",
    "\n",
    "    mf_taps = 1/(tea_sps+isi_sps) * np.ones(tea_sps+isi_sps)\n",
    "    mf_len = mf_taps.size\n",
    "    mf_delay = mf_len/2\n",
    "\n",
    "    # Matched filter the received baseband pulses\n",
    "    mf_baseband = scipy.signal.lfilter(mf_taps, 1, baseband);\n",
    "    mf_baseband = mf_baseband * 1.0 # Play with amplitude to see S-curve effects\n",
    "\n",
    "\n",
    "    # Symbol centers are now at indices n*tea_sps + isi_sps/2 (I think!)\n",
    "    # Symbol clock period is tea_sps samples\n",
    "    # Symbol peaks are perfectly at +/-1.0\n",
    "\n",
    "    # Timing offset granularity is in 1/tea_sps-th of a symbol\n",
    "    tau = np.arange(-tea_sps//2+2, tea_sps//2)\n",
    "    tau_norm = tau/tea_sps*a_sps\n",
    "\n",
    "    # M&M TED. Contellation points at -1.0 and +1.0.\n",
    "    # Gardener TED.\n",
    "    # Perfect estimate of symbol clock period.\n",
    "    # No external noise.\n",
    "    mm_ted_output = np.zeros((N_syms, tau.size));\n",
    "    ga_ted_output = np.zeros((N_syms, tau.size));\n",
    "    # For each known symbol peak set (M&M needs prev and current symbol)\n",
    "    for i in range(1, N_syms-1):\n",
    "        # Cycle through all the timing offsets around this symbol\n",
    "        # using a perfect symbol clock period estimate\n",
    "        opt_prev_idx = (i-1)*tea_sps + isi_sps//2;\n",
    "        opt_curr_idx = i*tea_sps + isi_sps//2;\n",
    "        for j, t in enumerate(tau):\n",
    "            prev_soft_sym = mf_baseband[opt_prev_idx - t];\n",
    "            mid_soft_samp = mf_baseband[(opt_curr_idx+opt_prev_idx)//2 - t];\n",
    "            curr_soft_sym = mf_baseband[opt_curr_idx - t];\n",
    "            prev_decision = 1 if prev_soft_sym >= 0 else -1\n",
    "            curr_decision = 1 if curr_soft_sym >= 0 else -1\n",
    "            mm_ted_output[i,j] = prev_decision * curr_soft_sym - curr_decision * prev_soft_sym\n",
    "            ga_ted_output[i,j] = (prev_soft_sym - curr_soft_sym) * mid_soft_samp\n",
    "        \n",
    "    mean_mm_ted_output = np.average(mm_ted_output, axis = 0)\n",
    "    mean_ga_ted_output = np.average(ga_ted_output, axis = 0)\n",
    "\n",
    "    # Plot the S-Curves\n",
    "    #plt.figure()\n",
    "    ##plt.plot()\n",
    "    ##plt.plot(tau_norm, mean_mm_ted_output)\n",
    "    ##plt.plot(tau_norm, mean_ga_ted_output)\n",
    "    #title('S-Curve, 6.667 Samples/Symbol, Rectangular Pulses, Imperfect MF, E_s/N_0 = \\infty');\n",
    "    #xlabel('Timing Error from Symbol Center, \\tau_\\epsilon (samples)');\n",
    "    #ylabel('Expected Value of TED Output, E(e[n] | \\tau_\\epsilon)');\n",
    "    #grid on;\n",
    "\n",
    "    # Plot the TED gains\n",
    "    ##plt.figure()\n",
    "    tau_diff = tau[:-1]+0.5;\n",
    "    tau_diff_norm = tau_diff/tea_sps*a_sps;\n",
    "    diff_mm_ted_output = np.diff(mean_mm_ted_output)/(a_sps/tea_sps);\n",
    "    diff_ga_ted_output = np.diff(mean_ga_ted_output)/(a_sps/tea_sps);\n",
    "    ##plt.plot(tau_diff_norm, diff_mm_ted_output)#, '- .b;M and M TED;', ...\n",
    "    ##plt.plot(tau_diff_norm, diff_ga_ted_output)#, '- +r;Gardner TED;');\n",
    "    #title('TED Gain, 6.667 Samples/Symbol, Rectangular Pulses, Imperfect MF, E_s/N_0 = \\infty');\n",
    "    #xlabel('Timing Error from Symbol Center, \\tau_\\epsilon (samples)');\n",
    "    #ylabel('Timing Error Detector Gain, Slope of E(e[n] | \\tau_\\epsilon), (sample^{-1})');\n",
    "    #grid on;\n",
    "\n",
    "    # Print out the central TED gains\n",
    "    k = diff_mm_ted_output.size\n",
    "    mm_ted_gain = np.average(diff_mm_ted_output[(k-1)//2:(k-1)//2+2])\n",
    "    k = diff_ga_ted_output.size\n",
    "    ga_ted_gain = np.average(diff_ga_ted_output[(k-1)//2:(k-1)//2+2])\n",
    "    \n",
    "    return (mm_ted_gain*sps, ga_ted_gain*sps)"
   ]
  },
  {
   "cell_type": "code",
   "execution_count": 3,
   "metadata": {},
   "outputs": [],
   "source": [
    "sps = np.arange(2,10.25,0.25)\n",
    "gains = [gain(s) for s in sps]"
   ]
  },
  {
   "cell_type": "code",
   "execution_count": 4,
   "metadata": {},
   "outputs": [
    {
     "data": {
      "text/plain": [
       "<matplotlib.legend.Legend at 0x7f2f19eae160>"
      ]
     },
     "execution_count": 4,
     "metadata": {},
     "output_type": "execute_result"
    },
    {
     "data": {
      "image/png": "[encoded data removed]",
      "text/plain": [
       "<Figure size 432x288 with 1 Axes>"
      ]
     },
     "metadata": {
      "needs_background": "light"
     },
     "output_type": "display_data"
    }
   ],
   "source": [
    "plt.plot(sps, np.array([g[0] for g in gains]))\n",
    "plt.plot(sps, np.array([g[1] for g in gains]))\n",
    "plt.title('TED gain')\n",
    "plt.ylabel('TED gain (1/symbol)')\n",
    "plt.xlabel('Samples per symbol')\n",
    "plt.legend(['M&M TED', 'Gardner TED'])"
   ]
  },
  {
   "cell_type": "code",
   "execution_count": 5,
   "metadata": {},
   "outputs": [
    {
     "data": {
      "text/plain": [
       "1.4733694343435606"
      ]
     },
     "execution_count": 5,
     "metadata": {},
     "output_type": "execute_result"
    }
   ],
   "source": [
    "np.average(np.array([g[1] for g in gains]))"
   ]
  }
 ],
 "metadata": {
  "kernelspec": {
   "display_name": "Python 3",
   "language": "python",
   "name": "python3"
  },
  "language_info": {
   "codemirror_mode": {
    "name": "ipython",
    "version": 3
   },
   "file_extension": ".py",
   "mimetype": "text/x-python",
   "name": "python",
   "nbconvert_exporter": "python",
   "pygments_lexer": "ipython3",
   "version": "3.6.9"
  }
 },
 "nbformat": 4,
 "nbformat_minor": 2
}
